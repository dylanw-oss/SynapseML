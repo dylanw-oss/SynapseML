{
  "nbformat": 4,
  "nbformat_minor": 2,
  "metadata": {
    "kernelspec": {
      "name": "synapse_pyspark",
      "display_name": "Synapse PySpark"
    },
    "language_info": {
      "name": "python"
    },
    "save_output": true,
    "synapse_widget": {
      "version": "0.1",
      "state": {}
    }
  },
  "cells": [
    {
      "cell_type": "code",
      "execution_count": 1,
      "outputs": [],
      "metadata": {
        "jupyter": {
          "source_hidden": false,
          "outputs_hidden": false
        },
        "nteract": {
          "transient": {
            "deleting": false
          }
        }
      },
      "source": [
        "%%configure -f\r\n",
        "{\r\n",
        "  \"name\": \"synapseml\",\r\n",
        "  \"conf\": {\r\n",
        "      \"spark.jars.packages\": \"com.microsoft.azure:synapseml-core_2.12:0.10.1-62-dc969b75-SNAPSHOT\",\r\n",
        "      \"spark.jars.repositories\": \"https://mmlspark.azureedge.net/maven\",\r\n",
        "      \"spark.jars.excludes\": \"org.scala-lang:scala-reflect,org.apache.spark:spark-tags_2.12,org.scalactic:scalactic_2.12,org.scalatest:scalatest_2.12\",\r\n",
        "      \"spark.yarn.user.classpath.first\": \"true\",\r\n",
        "  }\r\n",
        "}"
      ]
    },
    {
      "cell_type": "markdown",
      "metadata": {
        "nteract": {
          "transient": {
            "deleting": false
          }
        }
      },
      "source": [
        "# Startup Investment Attribution - Understand Outreach Effort's Effect"
      ]
    },
    {
      "cell_type": "markdown",
      "metadata": {
        "nteract": {
          "transient": {
            "deleting": false
          }
        }
      },
      "source": [
        "![image-alt-text](https://camo.githubusercontent.com/4ac8c931fd4600d2b466975c87fb03b439ebc7f6debd58409aea0db10457436d/68747470733a2f2f7777772e6d6963726f736f66742e636f6d2f656e2d75732f72657365617263682f75706c6f6164732f70726f642f323032302f30352f4174747269627574696f6e2e706e67)"
      ]
    },
    {
      "cell_type": "markdown",
      "metadata": {
        "nteract": {
          "transient": {
            "deleting": false
          }
        }
      },
      "source": [
        "A startup that sells software would like to know whether its outreach efforts were successful in attracting new customers or boosting consumption among existing customers. In other words, they would like to learn the treatment effect of each investment on customers' software usage.\r\n",
        "\r\n",
        "In an ideal world, the startup would run several randomized experiments where each customer would receive a random assortment of investments. However, this can be logistically prohibitive or strategically unsound: the startup might not have the resources to design such experiments or they might not want to risk losing out on big opportunities due to lack of incentives.\r\n",
        "\r\n",
        "In this customer scenario walkthrough, we show how SynapseML causal package can use historical investment data to learn the investment effect."
      ]
    },
    {
      "cell_type": "markdown",
      "metadata": {
        "nteract": {
          "transient": {
            "deleting": false
          }
        }
      },
      "source": [
        "## Background\r\n",
        "In this scenario, a startup that sells software provides discounts incentives to its customer. A customer might be given or not.\r\n",
        "\r\n",
        "The startup has historical data on these investments for 2,000 customers, as well as how much revenue these customers generated in the year after the investments were made. They would like to use this data to learn the optimal incentive policy for each existing or new customer in order to maximize the return on investment (ROI).\r\n",
        "\r\n",
        "The startup faces a challenge:  the dataset is biased because historically the larger customers received the most incentives. Thus, they need a causal model that can remove the bias."
      ]
    },
    {
      "cell_type": "markdown",
      "metadata": {
        "nteract": {
          "transient": {
            "deleting": false
          }
        }
      },
      "source": [
        "## Data\r\n",
        "The data* contains ~2,000 customers and is comprised of:\r\n",
        "\r\n",
        "* Customer features: details about the industry, size, revenue, and technology profile of each customer.\r\n",
        "* Interventions: information about which incentive was given to a customer.\r\n",
        "* Outcome: the amount of product the customer bought in the year after the incentives were given.\r\n",
        "\r\n",
        "\r\n",
        "| Feature Name    | Type | Details                                                                                                                                     |\r\n",
        "|-----------------|------|---------------------------------------------------------------------------------------------------------------------------------------------|\r\n",
        "| Global Flag     | W    | whether the customer has global offices                                                                                                     | \r\n",
        "| Major Flag      | W    | whether the customer is a large consumer in their industry (as opposed to SMC - Small Medium Corporation - or SMB - Small Medium Business)  |\r\n",
        "| SMC Flag        | W    | whether the customer is a Small Medium Corporation (SMC, as opposed to major and SMB)                                                       |\r\n",
        "| Commercial Flag | W    | whether the customer's business is commercial (as opposed to public secor)                                                                  |\r\n",
        "| IT Spend        | W    | $ spent on IT-related purchases                                                                                                             |\r\n",
        "| Employee Count  | W    | number of employees                                                                                                                         |\r\n",
        "| PC Count        | W    | number of PCs used by the customer                                                                                                          |                                                                                      |\r\n",
        "| Discount        | T    | whether the customer was given a discount (binary)                                                                                          |\r\n",
        "| Revenue         | Y    | $ Revenue from customer given by the amount of software purchased                                                                           |\r\n",
        ""
      ]
    },
    {
      "cell_type": "code",
      "execution_count": 2,
      "outputs": [],
      "metadata": {
        "jupyter": {
          "source_hidden": false,
          "outputs_hidden": false
        },
        "nteract": {
          "transient": {
            "deleting": false
          }
        }
      },
      "source": [
        "# Import the sample multi-attribution data\r\n",
        "# \"https://msalicedatapublic.blob.core.windows.net/datasets/ROI/multi_attribution_sample.csv\"\r\n",
        "\r\n",
        "# Azure storage access info\r\n",
        "blob_account_name = \"msalicedatapublic\"\r\n",
        "blob_container_name = \"datasets\"\r\n",
        "blob_relative_path = \"ROI/multi_attribution_sample.csv\"\r\n",
        "blob_sas_token = \"\"\r\n",
        "\r\n",
        "# Allow SPARK to read from Blob remotely\r\n",
        "wasbs_path = f\"wasbs://{blob_container_name}@{blob_account_name}.blob.core.windows.net/{blob_relative_path}\"\r\n",
        "\r\n",
        "spark.conf.set(f\"fs.azure.sas.{blob_container_name}.{blob_account_name}.blob.core.windows.net\", blob_sas_token)\r\n",
        "\r\n",
        "#  Import the sample data\r\n",
        "data = spark.read.option(\"inferSchema\", True).option(\"header\", True).csv(wasbs_path).drop(\"Tech Support\")"
      ]
    },
    {
      "cell_type": "code",
      "execution_count": 3,
      "outputs": [],
      "metadata": {
        "jupyter": {
          "source_hidden": false,
          "outputs_hidden": true
        },
        "nteract": {
          "transient": {
            "deleting": false
          }
        },
        "collapsed": false
      },
      "source": [
        "# Data sample\r\n",
        "display(data)"
      ]
    },
    {
      "cell_type": "markdown",
      "metadata": {
        "nteract": {
          "transient": {
            "deleting": false
          }
        }
      },
      "source": [
        "# Get Causal Effects with SynapseML DoubleMLEstimator"
      ]
    },
    {
      "cell_type": "code",
      "execution_count": 5,
      "outputs": [],
      "metadata": {
        "jupyter": {
          "source_hidden": false,
          "outputs_hidden": false
        },
        "nteract": {
          "transient": {
            "deleting": false
          }
        }
      },
      "source": [
        "from synapse.ml.causal import *\r\n",
        "from pyspark.ml.classification import LogisticRegression\r\n",
        "from pyspark.ml.regression import LinearRegression\r\n",
        "\r\n",
        "treatmentColumn = \"Discount\"\r\n",
        "outcomeColumn = \"Revenue\"\r\n",
        "\r\n",
        "dml = (DoubleMLEstimator()\r\n",
        "        .setTreatmentModel(LogisticRegression())\r\n",
        "        .setTreatmentCol(treatmentColumn)\r\n",
        "        .setOutcomeModel(LinearRegression())\r\n",
        "        .setOutcomeCol(outcomeColumn)\r\n",
        "        .setMaxIter(20))\r\n",
        "                \r\n",
        "model = dml.fit(data)"
      ]
    },
    {
      "cell_type": "code",
      "execution_count": 7,
      "outputs": [],
      "metadata": {
        "jupyter": {
          "source_hidden": false,
          "outputs_hidden": false
        },
        "nteract": {
          "transient": {
            "deleting": false
          }
        }
      },
      "source": [
        "# Get average treatment effect, it returns a numeric value, e.g. 5166.78324\r\n",
        "# It means, on average, customers who received a discount spent $5,166 more on software\r\n",
        "model.getAvgTreatmentEffect()"
      ]
    },
    {
      "cell_type": "code",
      "execution_count": 8,
      "outputs": [],
      "metadata": {
        "jupyter": {
          "source_hidden": false,
          "outputs_hidden": false
        },
        "nteract": {
          "transient": {
            "deleting": false
          }
        },
        "collapsed": false
      },
      "source": [
        "# Get treatment effect's confidence interval, e.g.  [4765.826181160708, 5371.2817538168965]\r\n",
        "model.getConfidenceInterval()"
      ]
    }
  ]
}